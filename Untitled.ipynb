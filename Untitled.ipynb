{
 "cells": [
  {
   "cell_type": "code",
   "execution_count": 27,
   "metadata": {},
   "outputs": [],
   "source": [
    "from torch.nn import Linear\n",
    "import torch\n",
    "import torch.nn as nn"
   ]
  },
  {
   "cell_type": "code",
   "execution_count": 20,
   "metadata": {},
   "outputs": [],
   "source": [
    "linear=Linear(10,5)\n",
    "firlinear=Linear(in_features=10, out_features=5, bias=True)"
   ]
  },
  {
   "cell_type": "code",
   "execution_count": 21,
   "metadata": {},
   "outputs": [
    {
     "data": {
      "text/plain": [
       "Parameter containing:\n",
       "tensor([[ 0.1817, -0.0597, -0.1562, -0.0852,  0.2513,  0.1176,  0.2876,  0.3007,\n",
       "         -0.2515, -0.2352],\n",
       "        [-0.2802, -0.1856, -0.1032, -0.0341,  0.0040,  0.2115,  0.1302, -0.2511,\n",
       "         -0.2045, -0.2410],\n",
       "        [-0.1640,  0.0393,  0.3149,  0.0772,  0.2116, -0.2462,  0.2551,  0.2017,\n",
       "          0.1167, -0.0447],\n",
       "        [ 0.2194, -0.0859, -0.1571, -0.0441,  0.1361,  0.2797, -0.0818,  0.1442,\n",
       "         -0.2487, -0.0814],\n",
       "        [-0.0692,  0.2369, -0.2090, -0.1524, -0.1132, -0.1560, -0.0257, -0.1601,\n",
       "          0.2160,  0.1205]], requires_grad=True)"
      ]
     },
     "execution_count": 21,
     "metadata": {},
     "output_type": "execute_result"
    }
   ],
   "source": [
    "linear.weight"
   ]
  },
  {
   "cell_type": "code",
   "execution_count": 22,
   "metadata": {},
   "outputs": [
    {
     "data": {
      "text/plain": [
       "Parameter containing:\n",
       "tensor([ 0.2869, -0.1762,  0.1452, -0.2192,  0.1590], requires_grad=True)"
      ]
     },
     "execution_count": 22,
     "metadata": {},
     "output_type": "execute_result"
    }
   ],
   "source": [
    "firlinear.bias"
   ]
  },
  {
   "cell_type": "code",
   "execution_count": 23,
   "metadata": {},
   "outputs": [],
   "source": [
    "inp=torch.randn(1,10)"
   ]
  },
  {
   "cell_type": "code",
   "execution_count": 24,
   "metadata": {},
   "outputs": [
    {
     "data": {
      "text/plain": [
       "tensor([[ 0.2518, -0.3937,  1.0398, -0.7214,  0.0398]],\n",
       "       grad_fn=<AddmmBackward>)"
      ]
     },
     "execution_count": 24,
     "metadata": {},
     "output_type": "execute_result"
    }
   ],
   "source": [
    "linear(inp)"
   ]
  },
  {
   "cell_type": "code",
   "execution_count": 25,
   "metadata": {},
   "outputs": [
    {
     "data": {
      "text/plain": [
       "Parameter containing:\n",
       "tensor([[ 0.1817, -0.0597, -0.1562, -0.0852,  0.2513,  0.1176,  0.2876,  0.3007,\n",
       "         -0.2515, -0.2352],\n",
       "        [-0.2802, -0.1856, -0.1032, -0.0341,  0.0040,  0.2115,  0.1302, -0.2511,\n",
       "         -0.2045, -0.2410],\n",
       "        [-0.1640,  0.0393,  0.3149,  0.0772,  0.2116, -0.2462,  0.2551,  0.2017,\n",
       "          0.1167, -0.0447],\n",
       "        [ 0.2194, -0.0859, -0.1571, -0.0441,  0.1361,  0.2797, -0.0818,  0.1442,\n",
       "         -0.2487, -0.0814],\n",
       "        [-0.0692,  0.2369, -0.2090, -0.1524, -0.1132, -0.1560, -0.0257, -0.1601,\n",
       "          0.2160,  0.1205]], requires_grad=True)"
      ]
     },
     "execution_count": 25,
     "metadata": {},
     "output_type": "execute_result"
    }
   ],
   "source": [
    "linear.weight"
   ]
  },
  {
   "cell_type": "code",
   "execution_count": 28,
   "metadata": {},
   "outputs": [],
   "source": [
    "loss=nn.MSELoss()"
   ]
  },
  {
   "cell_type": "code",
   "execution_count": 35,
   "metadata": {},
   "outputs": [
    {
     "name": "stdout",
     "output_type": "stream",
     "text": [
      "----------\n"
     ]
    }
   ],
   "source": [
    "import time\n",
    "print('-'*10)"
   ]
  },
  {
   "cell_type": "code",
   "execution_count": null,
   "metadata": {},
   "outputs": [],
   "source": []
  }
 ],
 "metadata": {
  "kernelspec": {
   "display_name": "Python 3",
   "language": "python",
   "name": "python3"
  },
  "language_info": {
   "codemirror_mode": {
    "name": "ipython",
    "version": 3
   },
   "file_extension": ".py",
   "mimetype": "text/x-python",
   "name": "python",
   "nbconvert_exporter": "python",
   "pygments_lexer": "ipython3",
   "version": "3.8.3"
  }
 },
 "nbformat": 4,
 "nbformat_minor": 4
}
